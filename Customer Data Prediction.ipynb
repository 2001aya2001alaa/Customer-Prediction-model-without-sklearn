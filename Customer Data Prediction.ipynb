{
 "cells": [
  {
   "cell_type": "code",
   "execution_count": 1,
   "id": "f31abd98",
   "metadata": {},
   "outputs": [],
   "source": [
    "import pandas as pd\n",
    "import numpy as np\n",
    "import matplotlib.pyplot as plt\n",
    "from sklearn import linear_model\n",
    "import copy"
   ]
  },
  {
   "cell_type": "code",
   "execution_count": 2,
   "id": "59c40971",
   "metadata": {},
   "outputs": [
    {
     "data": {
      "text/html": [
       "<div>\n",
       "<style scoped>\n",
       "    .dataframe tbody tr th:only-of-type {\n",
       "        vertical-align: middle;\n",
       "    }\n",
       "\n",
       "    .dataframe tbody tr th {\n",
       "        vertical-align: top;\n",
       "    }\n",
       "\n",
       "    .dataframe thead th {\n",
       "        text-align: right;\n",
       "    }\n",
       "</style>\n",
       "<table border=\"1\" class=\"dataframe\">\n",
       "  <thead>\n",
       "    <tr style=\"text-align: right;\">\n",
       "      <th></th>\n",
       "      <th>age</th>\n",
       "      <th>salary</th>\n",
       "      <th>purchased</th>\n",
       "    </tr>\n",
       "  </thead>\n",
       "  <tbody>\n",
       "    <tr>\n",
       "      <th>0</th>\n",
       "      <td>44</td>\n",
       "      <td>39000</td>\n",
       "      <td>0</td>\n",
       "    </tr>\n",
       "    <tr>\n",
       "      <th>1</th>\n",
       "      <td>32</td>\n",
       "      <td>120000</td>\n",
       "      <td>1</td>\n",
       "    </tr>\n",
       "    <tr>\n",
       "      <th>2</th>\n",
       "      <td>38</td>\n",
       "      <td>50000</td>\n",
       "      <td>0</td>\n",
       "    </tr>\n",
       "    <tr>\n",
       "      <th>3</th>\n",
       "      <td>32</td>\n",
       "      <td>135000</td>\n",
       "      <td>1</td>\n",
       "    </tr>\n",
       "    <tr>\n",
       "      <th>4</th>\n",
       "      <td>52</td>\n",
       "      <td>21000</td>\n",
       "      <td>1</td>\n",
       "    </tr>\n",
       "    <tr>\n",
       "      <th>5</th>\n",
       "      <td>53</td>\n",
       "      <td>104000</td>\n",
       "      <td>1</td>\n",
       "    </tr>\n",
       "    <tr>\n",
       "      <th>6</th>\n",
       "      <td>39</td>\n",
       "      <td>42000</td>\n",
       "      <td>0</td>\n",
       "    </tr>\n",
       "    <tr>\n",
       "      <th>7</th>\n",
       "      <td>38</td>\n",
       "      <td>61000</td>\n",
       "      <td>0</td>\n",
       "    </tr>\n",
       "    <tr>\n",
       "      <th>8</th>\n",
       "      <td>36</td>\n",
       "      <td>50000</td>\n",
       "      <td>0</td>\n",
       "    </tr>\n",
       "    <tr>\n",
       "      <th>9</th>\n",
       "      <td>36</td>\n",
       "      <td>63000</td>\n",
       "      <td>0</td>\n",
       "    </tr>\n",
       "    <tr>\n",
       "      <th>10</th>\n",
       "      <td>35</td>\n",
       "      <td>25000</td>\n",
       "      <td>0</td>\n",
       "    </tr>\n",
       "    <tr>\n",
       "      <th>11</th>\n",
       "      <td>35</td>\n",
       "      <td>50000</td>\n",
       "      <td>0</td>\n",
       "    </tr>\n",
       "    <tr>\n",
       "      <th>12</th>\n",
       "      <td>42</td>\n",
       "      <td>73000</td>\n",
       "      <td>1</td>\n",
       "    </tr>\n",
       "    <tr>\n",
       "      <th>13</th>\n",
       "      <td>47</td>\n",
       "      <td>49000</td>\n",
       "      <td>1</td>\n",
       "    </tr>\n",
       "    <tr>\n",
       "      <th>14</th>\n",
       "      <td>59</td>\n",
       "      <td>29000</td>\n",
       "      <td>1</td>\n",
       "    </tr>\n",
       "  </tbody>\n",
       "</table>\n",
       "</div>"
      ],
      "text/plain": [
       "    age  salary  purchased\n",
       "0    44   39000          0\n",
       "1    32  120000          1\n",
       "2    38   50000          0\n",
       "3    32  135000          1\n",
       "4    52   21000          1\n",
       "5    53  104000          1\n",
       "6    39   42000          0\n",
       "7    38   61000          0\n",
       "8    36   50000          0\n",
       "9    36   63000          0\n",
       "10   35   25000          0\n",
       "11   35   50000          0\n",
       "12   42   73000          1\n",
       "13   47   49000          1\n",
       "14   59   29000          1"
      ]
     },
     "execution_count": 2,
     "metadata": {},
     "output_type": "execute_result"
    }
   ],
   "source": [
    "customer_data = pd.read_csv('Downloads/customer_data.csv')\n",
    "customer_data.head(15)"
   ]
  },
  {
   "cell_type": "code",
   "execution_count": 3,
   "id": "5417d760",
   "metadata": {},
   "outputs": [
    {
     "name": "stdout",
     "output_type": "stream",
     "text": [
      "<class 'pandas.core.frame.DataFrame'>\n",
      "RangeIndex: 400 entries, 0 to 399\n",
      "Data columns (total 3 columns):\n",
      " #   Column     Non-Null Count  Dtype\n",
      "---  ------     --------------  -----\n",
      " 0   age        400 non-null    int64\n",
      " 1   salary     400 non-null    int64\n",
      " 2   purchased  400 non-null    int64\n",
      "dtypes: int64(3)\n",
      "memory usage: 9.5 KB\n"
     ]
    }
   ],
   "source": [
    "customer_data.info()"
   ]
  },
  {
   "cell_type": "code",
   "execution_count": 4,
   "id": "2863271a",
   "metadata": {},
   "outputs": [
    {
     "name": "stdout",
     "output_type": "stream",
     "text": [
      "age          0\n",
      "salary       0\n",
      "purchased    0\n",
      "dtype: int64\n"
     ]
    }
   ],
   "source": [
    "print(customer_data.isnull().sum())"
   ]
  },
  {
   "cell_type": "code",
   "execution_count": 5,
   "id": "95dca2b7",
   "metadata": {},
   "outputs": [
    {
     "name": "stdout",
     "output_type": "stream",
     "text": [
      "33\n"
     ]
    }
   ],
   "source": [
    "print(customer_data.duplicated().sum())"
   ]
  },
  {
   "cell_type": "code",
   "execution_count": 6,
   "id": "fed6e0bd",
   "metadata": {},
   "outputs": [
    {
     "name": "stdout",
     "output_type": "stream",
     "text": [
      "     age  salary  purchased\n",
      "0     44   39000          0\n",
      "1     32  120000          1\n",
      "2     38   50000          0\n",
      "3     32  135000          1\n",
      "4     52   21000          1\n",
      "..   ...     ...        ...\n",
      "394   24   84000          0\n",
      "395   27   96000          1\n",
      "396   23   63000          0\n",
      "398   48   90000          1\n",
      "399   42  104000          1\n",
      "\n",
      "[367 rows x 3 columns]\n"
     ]
    }
   ],
   "source": [
    "cus = customer_data.drop_duplicates()\n",
    "print(cus)"
   ]
  },
  {
   "cell_type": "code",
   "execution_count": 7,
   "id": "2176d70e",
   "metadata": {},
   "outputs": [
    {
     "data": {
      "image/png": "[encoded data removed]",
      "text/plain": [
       "<Figure size 640x480 with 1 Axes>"
      ]
     },
     "metadata": {},
     "output_type": "display_data"
    }
   ],
   "source": [
    "pos = cus['purchased'] == 1\n",
    "neg = cus['purchased'] == 0\n",
    "\n",
    "plt.scatter(cus['age'][pos], cus['salary'][pos], marker='o', c = 'g', label=\"y=1\")\n",
    "plt.scatter(cus['age'][neg],  cus['salary'][neg], marker='o', label=\"y=0\")\n",
    "\n",
    "plt.xlabel('Age')\n",
    "plt.ylabel('Salary')\n",
    "plt.legend()\n",
    "\n",
    "plt.show()"
   ]
  },
  {
   "cell_type": "code",
   "execution_count": 8,
   "id": "e8220b7d",
   "metadata": {},
   "outputs": [
    {
     "data": {
      "text/html": [
       "<div>\n",
       "<style scoped>\n",
       "    .dataframe tbody tr th:only-of-type {\n",
       "        vertical-align: middle;\n",
       "    }\n",
       "\n",
       "    .dataframe tbody tr th {\n",
       "        vertical-align: top;\n",
       "    }\n",
       "\n",
       "    .dataframe thead th {\n",
       "        text-align: right;\n",
       "    }\n",
       "</style>\n",
       "<table border=\"1\" class=\"dataframe\">\n",
       "  <thead>\n",
       "    <tr style=\"text-align: right;\">\n",
       "      <th></th>\n",
       "      <th>age</th>\n",
       "      <th>salary</th>\n",
       "      <th>purchased</th>\n",
       "    </tr>\n",
       "  </thead>\n",
       "  <tbody>\n",
       "    <tr>\n",
       "      <th>33</th>\n",
       "      <td>42</td>\n",
       "      <td>149000</td>\n",
       "      <td>1</td>\n",
       "    </tr>\n",
       "    <tr>\n",
       "      <th>257</th>\n",
       "      <td>26</td>\n",
       "      <td>32000</td>\n",
       "      <td>0</td>\n",
       "    </tr>\n",
       "    <tr>\n",
       "      <th>154</th>\n",
       "      <td>42</td>\n",
       "      <td>75000</td>\n",
       "      <td>0</td>\n",
       "    </tr>\n",
       "    <tr>\n",
       "      <th>200</th>\n",
       "      <td>49</td>\n",
       "      <td>74000</td>\n",
       "      <td>0</td>\n",
       "    </tr>\n",
       "    <tr>\n",
       "      <th>314</th>\n",
       "      <td>20</td>\n",
       "      <td>86000</td>\n",
       "      <td>0</td>\n",
       "    </tr>\n",
       "    <tr>\n",
       "      <th>...</th>\n",
       "      <td>...</td>\n",
       "      <td>...</td>\n",
       "      <td>...</td>\n",
       "    </tr>\n",
       "    <tr>\n",
       "      <th>73</th>\n",
       "      <td>47</td>\n",
       "      <td>23000</td>\n",
       "      <td>1</td>\n",
       "    </tr>\n",
       "    <tr>\n",
       "      <th>317</th>\n",
       "      <td>19</td>\n",
       "      <td>85000</td>\n",
       "      <td>0</td>\n",
       "    </tr>\n",
       "    <tr>\n",
       "      <th>157</th>\n",
       "      <td>19</td>\n",
       "      <td>25000</td>\n",
       "      <td>0</td>\n",
       "    </tr>\n",
       "    <tr>\n",
       "      <th>64</th>\n",
       "      <td>37</td>\n",
       "      <td>33000</td>\n",
       "      <td>0</td>\n",
       "    </tr>\n",
       "    <tr>\n",
       "      <th>336</th>\n",
       "      <td>22</td>\n",
       "      <td>81000</td>\n",
       "      <td>0</td>\n",
       "    </tr>\n",
       "  </tbody>\n",
       "</table>\n",
       "<p>367 rows × 3 columns</p>\n",
       "</div>"
      ],
      "text/plain": [
       "     age  salary  purchased\n",
       "33    42  149000          1\n",
       "257   26   32000          0\n",
       "154   42   75000          0\n",
       "200   49   74000          0\n",
       "314   20   86000          0\n",
       "..   ...     ...        ...\n",
       "73    47   23000          1\n",
       "317   19   85000          0\n",
       "157   19   25000          0\n",
       "64    37   33000          0\n",
       "336   22   81000          0\n",
       "\n",
       "[367 rows x 3 columns]"
      ]
     },
     "execution_count": 8,
     "metadata": {},
     "output_type": "execute_result"
    }
   ],
   "source": [
    "# Shuffle data frame using sample function to split the data into train and test\n",
    "\n",
    "cus = cus.sample(frac=1)\n",
    "cus"
   ]
  },
  {
   "cell_type": "code",
   "execution_count": 9,
   "id": "bd7aea6c",
   "metadata": {},
   "outputs": [],
   "source": [
    "features = cus[['age','salary']]\n",
    "pred = cus[['purchased']]"
   ]
  },
  {
   "cell_type": "code",
   "execution_count": 10,
   "id": "a0a5b8a5",
   "metadata": {},
   "outputs": [
    {
     "name": "stdout",
     "output_type": "stream",
     "text": [
      "X Train data: 293      X Test data: 74\n",
      "Y Train data: 293      Y Test data: 74\n"
     ]
    }
   ],
   "source": [
    "ratio = 0.8  #80% Train  20% Test\n",
    "  \n",
    "total_rows = cus.shape[0]\n",
    "train_size = int(total_rows*ratio)\n",
    "  \n",
    "# Split data into test and train\n",
    "xtrain = features[0:train_size]\n",
    "xtest = features[train_size:]\n",
    "\n",
    "ytrain = pred[0:train_size]\n",
    "ytest = pred[train_size:]\n",
    "\n",
    "print(\"X Train data:\" ,xtrain.shape[0], \"     X Test data:\",xtest.shape[0])\n",
    "print(\"Y Train data:\" ,ytrain.shape[0], \"     Y Test data:\",ytest.shape[0])"
   ]
  },
  {
   "cell_type": "code",
   "execution_count": 11,
   "id": "5e4a626f",
   "metadata": {},
   "outputs": [],
   "source": [
    "# Normalization Function\n",
    "\n",
    "def minmax(feature):\n",
    "    maxi = feature.max()\n",
    "    mini = feature.min()\n",
    "    n = feature.shape[0]\n",
    "    ft = pd.DataFrame(np.zeros(xtrain.shape))\n",
    "    ft = (feature-mini)/(maxi-mini)\n",
    "    return ft"
   ]
  },
  {
   "cell_type": "code",
   "execution_count": 12,
   "id": "8e094f76",
   "metadata": {},
   "outputs": [
    {
     "name": "stdout",
     "output_type": "stream",
     "text": [
      "          age    salary\n",
      "33   0.571429  0.992593\n",
      "257  0.190476  0.125926\n",
      "154  0.571429  0.444444\n",
      "200  0.738095  0.437037\n",
      "314  0.047619  0.525926\n",
      "..        ...       ...\n",
      "286  0.238095  0.518519\n",
      "379  0.690476  0.681481\n",
      "24   0.571429  0.281481\n",
      "263  0.452381  0.577778\n",
      "136  0.023810  0.044444\n",
      "\n",
      "[293 rows x 2 columns]\n"
     ]
    }
   ],
   "source": [
    "xtrain = pd.DataFrame(xtrain)\n",
    "\n",
    "xtrain['age'] = minmax(xtrain['age'])\n",
    "xtrain['salary'] = minmax(xtrain['salary'])\n",
    "\n",
    "print(xtrain)"
   ]
  },
  {
   "cell_type": "code",
   "execution_count": 13,
   "id": "3f894878",
   "metadata": {},
   "outputs": [],
   "source": [
    "def segmoid(z):\n",
    "    g = 1/(1+np.exp(-z))\n",
    "    return g"
   ]
  },
  {
   "cell_type": "code",
   "execution_count": 14,
   "id": "99e0b2ce",
   "metadata": {},
   "outputs": [],
   "source": [
    "def computeCost(x,y,w,b):\n",
    "    x = np.array(x)\n",
    "    y = np.array(y)\n",
    "    m = x.shape[0]\n",
    "    cost = 0\n",
    "    for i in range(m):\n",
    "        z = np.dot(x[i],w) + b\n",
    "        f_wb = segmoid(z)\n",
    "        cost = cost + (-y[i]*np.log(f_wb) - (1-y[i])*np.log(1-f_wb))\n",
    "    cost = cost/m\n",
    "    return cost"
   ]
  },
  {
   "cell_type": "code",
   "execution_count": 15,
   "id": "80da75df",
   "metadata": {},
   "outputs": [
    {
     "name": "stdout",
     "output_type": "stream",
     "text": [
      "[0.57621683]\n"
     ]
    }
   ],
   "source": [
    "w_tmp = np.array([1,1])\n",
    "b_tmp = -1\n",
    "print(computeCost(xtrain, ytrain, w_tmp, b_tmp))"
   ]
  },
  {
   "cell_type": "code",
   "execution_count": 16,
   "id": "f41bc94f",
   "metadata": {},
   "outputs": [],
   "source": [
    "def gradient(x,y,w,b):\n",
    "    m,n = x.shape\n",
    "    dj_dw = np.zeros((n,))\n",
    "    dj_db = 0\n",
    "    for i in range(m):\n",
    "        z = np.dot(x[i],w) + b\n",
    "        f_wb = segmoid(z)\n",
    "        err = f_wb - y[i]\n",
    "        dj_db = dj_db + err\n",
    "        for j in range(n):\n",
    "            dj_dw[j] = dj_dw[j] + err*x[i,j]\n",
    "    dj_db = dj_db / m\n",
    "    dj_dw = dj_dw / m\n",
    "    return dj_dw, dj_db"
   ]
  },
  {
   "cell_type": "code",
   "execution_count": 17,
   "id": "d26379d6",
   "metadata": {},
   "outputs": [],
   "source": [
    "def gradient_descent(X, y, w_in, b_in, alpha, num_iters):\n",
    "    cost_history = []\n",
    "    w = copy.deepcopy(w_in)  #avoid modifying global w within function\n",
    "    b = b_in\n",
    "    for i in range(num_iters):\n",
    "        dj_dw, dj_db = gradient(X,y,w_in,b_in)\n",
    "        w = w - alpha*dj_dw\n",
    "        b = b - alpha*dj_db\n",
    "        if i<100000: \n",
    "            cost_history.append( computeCost(X, y, w, b) )\n",
    "    return w, b, cost_history        "
   ]
  },
  {
   "cell_type": "code",
   "execution_count": 18,
   "id": "4156d840",
   "metadata": {},
   "outputs": [
    {
     "name": "stdout",
     "output_type": "stream",
     "text": [
      "updated parameters: w:[ 0.07935154 -0.00428517], b:[-0.33276451]\n"
     ]
    }
   ],
   "source": [
    "w_tmp  = np.array([0,0])\n",
    "b_tmp  = 0.\n",
    "alph = 0.0003\n",
    "iters = 10000\n",
    "\n",
    "xtrain = np.array(xtrain)\n",
    "ytrain = np.array(ytrain)\n",
    "w_out, b_out, cost_history = gradient_descent(xtrain, ytrain, w_tmp, b_tmp, alph, iters) \n",
    "print(f\"updated parameters: w:{w_out}, b:{b_out}\")"
   ]
  },
  {
   "cell_type": "code",
   "execution_count": 19,
   "id": "68a89de1",
   "metadata": {},
   "outputs": [],
   "source": [
    "#cost_history"
   ]
  },
  {
   "cell_type": "code",
   "execution_count": 20,
   "id": "4406d5cb",
   "metadata": {},
   "outputs": [],
   "source": [
    "def predict(x, w, b):\n",
    "    z = np.dot(x, w) + b\n",
    "    ypred = segmoid(z)\n",
    "    print(ypred)\n",
    "    return np.where(ypred <= 0.5, 0, 1) "
   ]
  },
  {
   "cell_type": "code",
   "execution_count": 21,
   "id": "00759ae2",
   "metadata": {},
   "outputs": [
    {
     "data": {
      "text/plain": [
       "array([0.66525027])"
      ]
     },
     "execution_count": 21,
     "metadata": {},
     "output_type": "execute_result"
    }
   ],
   "source": [
    "computeCost(xtrain, ytrain, w_out, b_out)"
   ]
  },
  {
   "cell_type": "code",
   "execution_count": 22,
   "id": "195a2d29",
   "metadata": {},
   "outputs": [],
   "source": [
    "xtest2 = np.array(minmax(xtest))"
   ]
  },
  {
   "cell_type": "code",
   "execution_count": 23,
   "id": "1de7bcf8",
   "metadata": {},
   "outputs": [
    {
     "name": "stdout",
     "output_type": "stream",
     "text": [
      "[0.41699016 0.43672831 0.42599598 0.42124042 0.43415449 0.42169294\n",
      " 0.4253341  0.42721866 0.4353957  0.42485601 0.4206692  0.42339805\n",
      " 0.42436988 0.42637614 0.42733335 0.43043693 0.43595899 0.42786952\n",
      " 0.41976136 0.43546512 0.42501856 0.42124859 0.41831632 0.42811077\n",
      " 0.43027386 0.43245498 0.41901599 0.42331988 0.42355335 0.42470877\n",
      " 0.43066319 0.42555861 0.43021177 0.43182704 0.43621778 0.43601661\n",
      " 0.42823372 0.42818454 0.43265219 0.42993385 0.43557212 0.43042159\n",
      " 0.42816351 0.42688744 0.42139089 0.43629654 0.43012614 0.42020067\n",
      " 0.43534633 0.43082736 0.42166845 0.43374439 0.42949903 0.42936422\n",
      " 0.42494137 0.43042979 0.42792689 0.43268042 0.42240232 0.42315644\n",
      " 0.41713667 0.42487593 0.42672364 0.42530137 0.42593868 0.4234343\n",
      " 0.43174133 0.4236749  0.42645803 0.43088483 0.41745769 0.41794625\n",
      " 0.42617608 0.4188693 ]\n"
     ]
    },
    {
     "data": {
      "text/plain": [
       "array([0, 0, 0, 0, 0, 0, 0, 0, 0, 0, 0, 0, 0, 0, 0, 0, 0, 0, 0, 0, 0, 0,\n",
       "       0, 0, 0, 0, 0, 0, 0, 0, 0, 0, 0, 0, 0, 0, 0, 0, 0, 0, 0, 0, 0, 0,\n",
       "       0, 0, 0, 0, 0, 0, 0, 0, 0, 0, 0, 0, 0, 0, 0, 0, 0, 0, 0, 0, 0, 0,\n",
       "       0, 0, 0, 0, 0, 0, 0, 0])"
      ]
     },
     "execution_count": 23,
     "metadata": {},
     "output_type": "execute_result"
    }
   ],
   "source": [
    "ypred = np.array(predict(xtest2, w_out, b_out))\n",
    "ypred"
   ]
  },
  {
   "cell_type": "code",
   "execution_count": 24,
   "id": "035f6f84",
   "metadata": {},
   "outputs": [
    {
     "name": "stdout",
     "output_type": "stream",
     "text": [
      "0.6756756756756757\n"
     ]
    }
   ],
   "source": [
    "from sklearn.metrics import accuracy_score\n",
    "print(accuracy_score(ytest, ypred))"
   ]
  }
 ],
 "metadata": {
  "kernelspec": {
   "display_name": "Python 3 (ipykernel)",
   "language": "python",
   "name": "python3"
  },
  "language_info": {
   "codemirror_mode": {
    "name": "ipython",
    "version": 3
   },
   "file_extension": ".py",
   "mimetype": "text/x-python",
   "name": "python",
   "nbconvert_exporter": "python",
   "pygments_lexer": "ipython3",
   "version": "3.8.8"
  }
 },
 "nbformat": 4,
 "nbformat_minor": 5
}
